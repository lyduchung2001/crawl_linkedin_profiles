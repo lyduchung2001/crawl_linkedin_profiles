{
 "cells": [
  {
   "cell_type": "markdown",
   "id": "90562a85",
   "metadata": {},
   "source": [
    "## Install package"
   ]
  },
  {
   "cell_type": "code",
   "execution_count": 1,
   "id": "584e3272",
   "metadata": {},
   "outputs": [],
   "source": [
    "from selenium import webdriver\n",
    "from bs4 import BeautifulSoup\n",
    "from time import sleep\n",
    "from selenium.webdriver.common.by import By\n",
    "from selenium.webdriver.common.keys import Keys\n",
    "import csv"
   ]
  },
  {
   "cell_type": "markdown",
   "id": "a54ed0b2",
   "metadata": {},
   "source": [
    "## Access Linkedin on Chrome Driver"
   ]
  },
  {
   "cell_type": "code",
   "execution_count": 2,
   "id": "4e2d5ca1",
   "metadata": {},
   "outputs": [
    {
     "name": "stdout",
     "output_type": "stream",
     "text": [
      "Access Successful!\n"
     ]
    }
   ],
   "source": [
    "driver=webdriver.Chrome()\n",
    "sleep(2)\n",
    "driver.get('https://www.linkedin.com/login')\n",
    "sleep(2)\n",
    "print(\"Access Successful!\")"
   ]
  },
  {
   "cell_type": "markdown",
   "id": "8062ac71",
   "metadata": {},
   "source": [
    "### Import Username and Password to login"
   ]
  },
  {
   "cell_type": "code",
   "execution_count": 3,
   "id": "34f2662c",
   "metadata": {},
   "outputs": [
    {
     "name": "stdout",
     "output_type": "stream",
     "text": [
      "Import login credential success!\n"
     ]
    }
   ],
   "source": [
    "login=open('login.txt')\n",
    "line=login.readlines()\n",
    "username=line[0]\n",
    "password=line[1]\n",
    "print(\"Import login credential success!\")"
   ]
  },
  {
   "cell_type": "code",
   "execution_count": 4,
   "id": "e6f8ef16",
   "metadata": {},
   "outputs": [
    {
     "name": "stdout",
     "output_type": "stream",
     "text": [
      "Import username success!\n"
     ]
    }
   ],
   "source": [
    "username_login=driver.find_element(By.ID,'username')\n",
    "username_login.send_keys(username)\n",
    "print('Import username success!')\n",
    "sleep(2)"
   ]
  },
  {
   "cell_type": "code",
   "execution_count": 5,
   "id": "60918953",
   "metadata": {},
   "outputs": [
    {
     "name": "stdout",
     "output_type": "stream",
     "text": [
      "Import password success!\n"
     ]
    }
   ],
   "source": [
    "password_login=driver.find_element(By.ID,'password')\n",
    "password_login.send_keys(password)\n",
    "print('Import password success!')\n",
    "sleep(2)"
   ]
  },
  {
   "cell_type": "markdown",
   "id": "b4e27092",
   "metadata": {},
   "source": [
    "### Click to login Linkedin after importing Username and Password"
   ]
  },
  {
   "cell_type": "code",
   "execution_count": 6,
   "id": "8e3d4b4b",
   "metadata": {},
   "outputs": [
    {
     "name": "stdout",
     "output_type": "stream",
     "text": [
      "Login Success!\n"
     ]
    }
   ],
   "source": [
    "login_type=driver.find_element(By.XPATH, '//*[@id=\"organic-div\"]/form/div[3]/button')\n",
    "login_type.click()\n",
    "print('Login Success!')\n",
    "sleep(2)"
   ]
  },
  {
   "cell_type": "markdown",
   "id": "fa26cb35",
   "metadata": {},
   "source": [
    "## Search for the profile we want to crawl"
   ]
  },
  {
   "cell_type": "code",
   "execution_count": 7,
   "id": "16f2bc67",
   "metadata": {},
   "outputs": [],
   "source": [
    "search_field=driver.find_element(By.XPATH,'/html/body/div[5]/header/div/div/div')\n",
    "search_field.click()\n",
    "sleep(3)\n",
    "search_query=input('What profile do you want to crawl?')\n",
    "search_type=driver.find_element(By.XPATH,'//*[@id=\"global-nav-typeahead\"]/input')\n",
    "search_type.send_keys(search_query)\n",
    "sleep(3)\n",
    "search_type.send_keys(Keys.RETURN)\n",
    "sleep(3)\n",
    "all_profile_type=driver.find_element(By.XPATH,'//*[@id=\"search-reusables__filters-bar\"]/ul/li[3]/button')\n",
    "all_profile_type.click()"
   ]
  },
  {
   "cell_type": "code",
   "execution_count": 8,
   "id": "7ddb5512",
   "metadata": {},
   "outputs": [],
   "source": [
    "def GetURL():\n",
    "    page_source = BeautifulSoup(driver.page_source)\n",
    "    profiles = page_source.find_all('a', class_ = 'app-aware-link')\n",
    "    all_profile_URL = []\n",
    "    for profile in profiles:\n",
    "        # profile_ID = profile.get('href')\n",
    "        # profile_URL = \"https://www.linkedin.com\" + profile_ID\n",
    "        profile_URL = profile.get('href')\n",
    "        if profile_URL not in all_profile_URL:\n",
    "            all_profile_URL.append(profile_URL)\n",
    "    return all_profile_URL\n"
   ]
  },
  {
   "cell_type": "markdown",
   "id": "d03ac53f",
   "metadata": {},
   "source": [
    "### Collect URL of profiles that we want to crawl"
   ]
  },
  {
   "cell_type": "code",
   "execution_count": 9,
   "id": "2ab5c7c9",
   "metadata": {},
   "outputs": [
    {
     "name": "stdout",
     "output_type": "stream",
     "text": [
      "https://www.linkedin.com/in/hieuncong97?miniProfileUrn=urn%3Ali%3Afs_miniProfile%3AACoAADBc2eIBz0tsMzqwiB8RkfRO8ut0OFObzaI\n",
      "https://www.linkedin.com/in/ACoAACMS0ooBMMIvE6PdE3rjF6-NndCaxVR9ip4?miniProfileUrn=urn%3Ali%3Afs_miniProfile%3AACoAACMS0ooBMMIvE6PdE3rjF6-NndCaxVR9ip4\n",
      "https://www.linkedin.com/in/thi-thao-le-561918230?miniProfileUrn=urn%3Ali%3Afs_miniProfile%3AACoAADnM9hkBJaNrLognOk9_pHtNkLX7UQPf75M\n",
      "https://www.linkedin.com/in/ACoAABpfDg8BJqfvmfDZ-OZ-CgKfn1OTCn8snyg?miniProfileUrn=urn%3Ali%3Afs_miniProfile%3AACoAABpfDg8BJqfvmfDZ-OZ-CgKfn1OTCn8snyg\n",
      "https://www.linkedin.com/in/tungtv289?miniProfileUrn=urn%3Ali%3Afs_miniProfile%3AACoAADJUkZsBSlPDeTKSsVhIGvWTSRaVkHc0uec\n",
      "https://www.linkedin.com/in/ACoAADVTxcMBan1qalRcweecFZEa6vVW1vQoeEQ?miniProfileUrn=urn%3Ali%3Afs_miniProfile%3AACoAADVTxcMBan1qalRcweecFZEa6vVW1vQoeEQ\n",
      "https://www.linkedin.com/in/eugenevu52?miniProfileUrn=urn%3Ali%3Afs_miniProfile%3AACoAADJoBQMB5NqnHAdb_KrAq5dw5CxQmHZMkHY\n",
      "https://www.linkedin.com/in/ACoAABy8JqQBF48pkqzNfXxNCMG4O5H7gcAmlPs?miniProfileUrn=urn%3Ali%3Afs_miniProfile%3AACoAABy8JqQBF48pkqzNfXxNCMG4O5H7gcAmlPs\n",
      "https://www.linkedin.com/in/dan-nguyen-minh-131091245?miniProfileUrn=urn%3Ali%3Afs_miniProfile%3AACoAADyzsHUBVUhbyuiCKr_X7QBRnE1WmKLgals\n",
      "https://www.linkedin.com/in/ACoAABwMR6oBKl4-uCQR5Aor_5HovydONYLNDDc?miniProfileUrn=urn%3Ali%3Afs_miniProfile%3AACoAABwMR6oBKl4-uCQR5Aor_5HovydONYLNDDc\n",
      "https://www.linkedin.com/in/ACoAACAHfjkBK0Hpo0UTA4cMdU8ZUxmlPiUdops?miniProfileUrn=urn%3Ali%3Afs_miniProfile%3AACoAACAHfjkBK0Hpo0UTA4cMdU8ZUxmlPiUdops\n",
      "https://www.linkedin.com/in/quangnguyen271997?miniProfileUrn=urn%3Ali%3Afs_miniProfile%3AACoAACeENUsBwgrimDwQvuiNfVqPYh1gm6KWgF0\n",
      "https://www.linkedin.com/in/ACoAADMp2V0BDT9DdslbLeJ1tM44JT3TbwyVXsA?miniProfileUrn=urn%3Ali%3Afs_miniProfile%3AACoAADMp2V0BDT9DdslbLeJ1tM44JT3TbwyVXsA\n",
      "https://www.linkedin.com/in/ACoAADN2gE4BCr038kFTotDw9pfUEqGXq_dAUAk?miniProfileUrn=urn%3Ali%3Afs_miniProfile%3AACoAADN2gE4BCr038kFTotDw9pfUEqGXq_dAUAk\n",
      "https://www.linkedin.com/in/anhlq01?miniProfileUrn=urn%3Ali%3Afs_miniProfile%3AACoAADYkVNsBNpb4l7KqvZGf1dXrqTjRh8I0L1s\n",
      "https://www.linkedin.com/in/lethilong?miniProfileUrn=urn%3Ali%3Afs_miniProfile%3AACoAADYM5LQBQgqRGPgESiwDvwoVkZaT-zdFu1Q\n",
      "https://www.linkedin.com/in/hoang-nguyen-7201231b1?miniProfileUrn=urn%3Ali%3Afs_miniProfile%3AACoAADFRVkgBEWhoSSof0TJTz10QsBgECaExzPc\n",
      "https://www.linkedin.com/in/ACoAADFRVkgBEWhoSSof0TJTz10QsBgECaExzPc?miniProfileUrn=urn%3Ali%3Afs_miniProfile%3AACoAADFRVkgBEWhoSSof0TJTz10QsBgECaExzPc\n",
      "https://www.linkedin.com/in/kh%C3%A1nh-l%C6%B0%C6%A1ng-b6aba3118?miniProfileUrn=urn%3Ali%3Afs_miniProfile%3AACoAAB1dSMIByhDAyuOugcqbRW9_UNWoUGRwFPE\n"
     ]
    }
   ],
   "source": [
    "number_of_page=int(input('How many pages that you want to crawl?'))\n",
    "URLs_all_page=[]\n",
    "for page in range(number_of_page):\n",
    "    URLs_one_page=GetURL()\n",
    "    sleep(2)\n",
    "    driver.execute_script('window.scrollTo(0, document.body.scrollHeight);')\n",
    "    sleep(2)\n",
    "    next_button=driver.find_element(By.CLASS_NAME,'artdeco-pagination__button--next')\n",
    "    next_button.click()\n",
    "    URLs_all_page=URLs_all_page+URLs_one_page\n",
    "\n",
    "for i in URLs_all_page:\n",
    "        if i.find('/in/')!=-1:\n",
    "            print(i)"
   ]
  },
  {
   "cell_type": "markdown",
   "id": "74ae5155",
   "metadata": {},
   "source": [
    "### Export Linkedin profiles to .csv file"
   ]
  },
  {
   "cell_type": "code",
   "execution_count": 12,
   "id": "ba4a4502",
   "metadata": {},
   "outputs": [
    {
     "name": "stdout",
     "output_type": "stream",
     "text": [
      "Công Hiếu Nguyễn\n",
      "Data Engineer at VNPAY\n",
      "Hanoi, Hanoi, Vietnam\n",
      "https://www.linkedin.com/in/hieuncong97?miniProfileUrn=urn%3Ali%3Afs_miniProfile%3AACoAADBc2eIBz0tsMzqwiB8RkfRO8ut0OFObzaI\n",
      "\n",
      "\n",
      "Tuan Vo\n",
      "Human Resources Director at Siêu Việt Group\n",
      "Ho Chi Minh City, Vietnam\n",
      "https://www.linkedin.com/in/ACoAACMS0ooBMMIvE6PdE3rjF6-NndCaxVR9ip4?miniProfileUrn=urn%3Ali%3Afs_miniProfile%3AACoAACMS0ooBMMIvE6PdE3rjF6-NndCaxVR9ip4\n",
      "\n",
      "\n",
      "thi thao le\n",
      "Data Engineer\n",
      "Hanoi Capital Region\n",
      "https://www.linkedin.com/in/thi-thao-le-561918230?miniProfileUrn=urn%3Ali%3Afs_miniProfile%3AACoAADnM9hkBJaNrLognOk9_pHtNkLX7UQPf75M\n",
      "\n",
      "\n",
      "Huong Nguyen\n",
      "Talent Acquisition Manager at Creative Force\n",
      "Hanoi Capital Region\n",
      "https://www.linkedin.com/in/ACoAABpfDg8BJqfvmfDZ-OZ-CgKfn1OTCn8snyg?miniProfileUrn=urn%3Ali%3Afs_miniProfile%3AACoAABpfDg8BJqfvmfDZ-OZ-CgKfn1OTCn8snyg\n",
      "\n",
      "\n",
      "Trần Tùng\n",
      "Data Engineer\n",
      "Hanoi Capital Region\n",
      "https://www.linkedin.com/in/tungtv289?miniProfileUrn=urn%3Ali%3Afs_miniProfile%3AACoAADJUkZsBSlPDeTKSsVhIGvWTSRaVkHc0uec\n",
      "\n",
      "\n",
      "vinh nguyễn thế\n",
      "Human Resources Manager\n",
      "Hai Bà Trưng District, Hanoi, Vietnam\n",
      "https://www.linkedin.com/in/ACoAADVTxcMBan1qalRcweecFZEa6vVW1vQoeEQ?miniProfileUrn=urn%3Ali%3Afs_miniProfile%3AACoAADVTxcMBan1qalRcweecFZEa6vVW1vQoeEQ\n",
      "\n",
      "\n",
      "Thang (Eugene) Vu\n",
      "Data Engineer at Mcredit\n",
      "Hanoi Capital Region\n",
      "https://www.linkedin.com/in/eugenevu52?miniProfileUrn=urn%3Ali%3Afs_miniProfile%3AACoAADJoBQMB5NqnHAdb_KrAq5dw5CxQmHZMkHY\n",
      "\n",
      "\n",
      "Thu Hien Nguyen\n",
      "HRBP - Commercial @ Saint-Gobain Vietnam\n",
      "Vietnam\n",
      "https://www.linkedin.com/in/ACoAABy8JqQBF48pkqzNfXxNCMG4O5H7gcAmlPs?miniProfileUrn=urn%3Ali%3Afs_miniProfile%3AACoAABy8JqQBF48pkqzNfXxNCMG4O5H7gcAmlPs\n",
      "\n",
      "\n",
      "Dan Nguyen Minh\n",
      "Data Engineer at Undisclosed Hedge Fund\n",
      "Hanoi Capital Region\n",
      "https://www.linkedin.com/in/dan-nguyen-minh-131091245?miniProfileUrn=urn%3Ali%3Afs_miniProfile%3AACoAADyzsHUBVUhbyuiCKr_X7QBRnE1WmKLgals\n",
      "\n",
      "\n",
      "Phuong Do\n",
      "People Operations Executive at Lalamove\n",
      "Vietnam\n",
      "https://www.linkedin.com/in/ACoAABwMR6oBKl4-uCQR5Aor_5HovydONYLNDDc?miniProfileUrn=urn%3Ali%3Afs_miniProfile%3AACoAABwMR6oBKl4-uCQR5Aor_5HovydONYLNDDc\n",
      "\n",
      "\n",
      "Julie ..\n",
      "Help people find job\n",
      "Hanoi Capital Region\n",
      "https://www.linkedin.com/in/ACoAACAHfjkBK0Hpo0UTA4cMdU8ZUxmlPiUdops?miniProfileUrn=urn%3Ali%3Afs_miniProfile%3AACoAACAHfjkBK0Hpo0UTA4cMdU8ZUxmlPiUdops\n",
      "\n",
      "\n",
      "Quang Nguyen Ngoc\n",
      "Data Engineer\n",
      "Hanoi Capital Region\n",
      "https://www.linkedin.com/in/quangnguyen271997?miniProfileUrn=urn%3Ali%3Afs_miniProfile%3AACoAACeENUsBwgrimDwQvuiNfVqPYh1gm6KWgF0\n",
      "\n",
      "\n",
      "Mai Anh Tran\n",
      "Talent Acquisition Specialist | One Mount Group\n",
      "Hanoi, Hanoi, Vietnam\n",
      "https://www.linkedin.com/in/ACoAADMp2V0BDT9DdslbLeJ1tM44JT3TbwyVXsA?miniProfileUrn=urn%3Ali%3Afs_miniProfile%3AACoAADMp2V0BDT9DdslbLeJ1tM44JT3TbwyVXsA\n",
      "\n",
      "\n",
      "Sunny Pham\n",
      "Senior Recruitment Consultant at HR1 Vietnam - Executive Search Firm\n",
      "Hanoi, Hanoi, Vietnam\n",
      "https://www.linkedin.com/in/ACoAADN2gE4BCr038kFTotDw9pfUEqGXq_dAUAk?miniProfileUrn=urn%3Ali%3Afs_miniProfile%3AACoAADN2gE4BCr038kFTotDw9pfUEqGXq_dAUAk\n",
      "\n",
      "\n",
      "La Anh\n",
      "Data Engineer\n",
      "Hanoi Capital Region\n",
      "https://www.linkedin.com/in/anhlq01?miniProfileUrn=urn%3Ali%3Afs_miniProfile%3AACoAADYkVNsBNpb4l7KqvZGf1dXrqTjRh8I0L1s\n",
      "\n",
      "\n",
      "Long Le Thi\n",
      "Data Engineer\n",
      "Hanoi Capital Region\n",
      "https://www.linkedin.com/in/lethilong?miniProfileUrn=urn%3Ali%3Afs_miniProfile%3AACoAADYM5LQBQgqRGPgESiwDvwoVkZaT-zdFu1Q\n",
      "\n",
      "\n",
      "Hoang Nguyen\n",
      "Data Engineer at Viettel Post\n",
      "Hanoi, Hanoi, Vietnam\n",
      "https://www.linkedin.com/in/hoang-nguyen-7201231b1?miniProfileUrn=urn%3Ali%3Afs_miniProfile%3AACoAADFRVkgBEWhoSSof0TJTz10QsBgECaExzPc\n",
      "\n",
      "\n",
      "Hoang Nguyen\n",
      "Data Engineer at Viettel Post\n",
      "Hanoi, Hanoi, Vietnam\n",
      "https://www.linkedin.com/in/ACoAADFRVkgBEWhoSSof0TJTz10QsBgECaExzPc?miniProfileUrn=urn%3Ali%3Afs_miniProfile%3AACoAADFRVkgBEWhoSSof0TJTz10QsBgECaExzPc\n",
      "\n",
      "\n",
      "Khánh Lương\n",
      "Data Engineer\n",
      "Hanoi, Hanoi, Vietnam\n",
      "https://www.linkedin.com/in/kh%C3%A1nh-l%C6%B0%C6%A1ng-b6aba3118?miniProfileUrn=urn%3Ali%3Afs_miniProfile%3AACoAAB1dSMIByhDAyuOugcqbRW9_UNWoUGRwFPE\n",
      "\n",
      "\n",
      "Mission Completed!\n"
     ]
    }
   ],
   "source": [
    "with open('output.csv', 'w',  newline = '') as file_output:\n",
    "    headers = ['Name', 'Job Title', 'Location', 'URL']\n",
    "    writer = csv.DictWriter(file_output, delimiter=',', lineterminator='\\n',fieldnames=headers)\n",
    "    writer.writeheader()\n",
    "    for i in URLs_all_page:\n",
    "        if i.find('/in/')!=-1:\n",
    "            driver.get(i)\n",
    "            page_source=BeautifulSoup(driver.page_source,'html.parser')\n",
    "            into_div=page_source.find('div',class_='mt2 relative')\n",
    "            try:\n",
    "                get_name=into_div.find('h1').get_text().strip()\n",
    "                print(get_name)\n",
    "                get_job=into_div.find('div',class_='text-body-medium break-words').get_text().strip()\n",
    "                print(get_job)\n",
    "                get_location=into_div.find('span',class_='text-body-small inline t-black--light break-words').get_text().strip()\n",
    "                print(get_location)\n",
    "                get_link=i\n",
    "                print(get_link)\n",
    "                print('\\n')\n",
    "                sleep(3)\n",
    "                writer.writerow({headers[0]:get_name, headers[1]:get_job, headers[2]:get_location, headers[3]:get_link})\n",
    "                sleep(3)\n",
    "            except:\n",
    "                pass\n",
    "\n",
    "print('Mission Completed!')\n"
   ]
  },
  {
   "cell_type": "code",
   "execution_count": null,
   "id": "9b581276",
   "metadata": {},
   "outputs": [],
   "source": []
  }
 ],
 "metadata": {
  "kernelspec": {
   "display_name": "Python 3 (ipykernel)",
   "language": "python",
   "name": "python3"
  },
  "language_info": {
   "codemirror_mode": {
    "name": "ipython",
    "version": 3
   },
   "file_extension": ".py",
   "mimetype": "text/x-python",
   "name": "python",
   "nbconvert_exporter": "python",
   "pygments_lexer": "ipython3",
   "version": "3.11.2"
  }
 },
 "nbformat": 4,
 "nbformat_minor": 5
}
